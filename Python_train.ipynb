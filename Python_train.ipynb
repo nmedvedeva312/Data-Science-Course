{
  "nbformat": 4,
  "nbformat_minor": 0,
  "metadata": {
    "colab": {
      "provenance": [],
      "authorship_tag": "ABX9TyMGBupBNeDG+ldaWzf/WLvG",
      "include_colab_link": true
    },
    "kernelspec": {
      "name": "python3",
      "display_name": "Python 3"
    },
    "language_info": {
      "name": "python"
    }
  },
  "cells": [
    {
      "cell_type": "markdown",
      "metadata": {
        "id": "view-in-github",
        "colab_type": "text"
      },
      "source": [
        "<a href=\"https://colab.research.google.com/github/nmedvedeva312/Data-Science-Course/blob/main/Python_train.ipynb\" target=\"_parent\"><img src=\"https://colab.research.google.com/assets/colab-badge.svg\" alt=\"Open In Colab\"/></a>"
      ]
    },
    {
      "cell_type": "markdown",
      "source": [
        "# Math Module"
      ],
      "metadata": {
        "id": "vybYylSw-FfY"
      }
    },
    {
      "cell_type": "code",
      "source": [
        "import math"
      ],
      "metadata": {
        "id": "l2C_HxcF-WMt"
      },
      "execution_count": null,
      "outputs": []
    },
    {
      "cell_type": "code",
      "source": [
        "math.pi"
      ],
      "metadata": {
        "id": "Hj4KP5Ds-e85",
        "colab": {
          "base_uri": "https://localhost:8080/"
        },
        "outputId": "d327be28-f427-4ebc-96d2-4fb62d515b14"
      },
      "execution_count": null,
      "outputs": [
        {
          "output_type": "execute_result",
          "data": {
            "text/plain": [
              "3.141592653589793"
            ]
          },
          "metadata": {},
          "execution_count": 5
        }
      ]
    },
    {
      "cell_type": "markdown",
      "source": [
        "# Raddom Module"
      ],
      "metadata": {
        "id": "pWnCzWzUCmnP"
      }
    },
    {
      "cell_type": "code",
      "source": [
        "import random\n",
        "r = random.random()"
      ],
      "metadata": {
        "id": "7lSsV4tiCsSq"
      },
      "execution_count": null,
      "outputs": []
    },
    {
      "cell_type": "markdown",
      "source": [
        "# Условный оператор if"
      ],
      "metadata": {
        "id": "6tB_MlpzDU-F"
      }
    },
    {
      "cell_type": "code",
      "source": [
        "if r < 0.5 :\n",
        "  print('котик')\n",
        "elif r > 0.5 :\n",
        "  print('хомячок')\n",
        "else :\n",
        "  print(f'в переменной r содержится значение {r}')"
      ],
      "metadata": {
        "colab": {
          "base_uri": "https://localhost:8080/"
        },
        "id": "r4HzIfncDgxR",
        "outputId": "de661825-0faf-48fb-bf90-d409d4ead4e2"
      },
      "execution_count": null,
      "outputs": [
        {
          "output_type": "stream",
          "name": "stdout",
          "text": [
            "в переменной r содержится значение 0.5\n"
          ]
        }
      ]
    },
    {
      "cell_type": "code",
      "source": [
        "r = 0.5"
      ],
      "metadata": {
        "id": "SLTqAdroFPH6"
      },
      "execution_count": null,
      "outputs": []
    },
    {
      "cell_type": "markdown",
      "source": [
        "# Цикл for"
      ],
      "metadata": {
        "id": "PFiypUUZGugT"
      }
    },
    {
      "cell_type": "code",
      "source": [
        "fibonacci = [0,1]\n",
        "fibonacci"
      ],
      "metadata": {
        "colab": {
          "base_uri": "https://localhost:8080/"
        },
        "id": "RGJlMo7cG3Ct",
        "outputId": "1e07285e-44ec-49d3-b4ae-b886154d90fb"
      },
      "execution_count": null,
      "outputs": [
        {
          "output_type": "execute_result",
          "data": {
            "text/plain": [
              "[0, 1]"
            ]
          },
          "metadata": {},
          "execution_count": 19
        }
      ]
    },
    {
      "cell_type": "code",
      "source": [
        "fibonacci.append(1)"
      ],
      "metadata": {
        "id": "XXepdOxVIvUO"
      },
      "execution_count": null,
      "outputs": []
    },
    {
      "cell_type": "code",
      "source": [
        "fibonacci"
      ],
      "metadata": {
        "colab": {
          "base_uri": "https://localhost:8080/"
        },
        "id": "HCsWCJHeI722",
        "outputId": "e77db411-0dc0-4d7d-b4a5-40d6f1a78f17"
      },
      "execution_count": null,
      "outputs": [
        {
          "output_type": "execute_result",
          "data": {
            "text/plain": [
              "[0, 1, 1]"
            ]
          },
          "metadata": {},
          "execution_count": 22
        }
      ]
    },
    {
      "cell_type": "code",
      "source": [
        "for i in fibonacci :\n",
        "  print(i)"
      ],
      "metadata": {
        "colab": {
          "base_uri": "https://localhost:8080/"
        },
        "id": "SWFhdVkfJr2o",
        "outputId": "bf28d2ae-c6d2-4a8d-9255-9d7e78c3b6f5"
      },
      "execution_count": null,
      "outputs": [
        {
          "output_type": "stream",
          "name": "stdout",
          "text": [
            "0\n",
            "1\n",
            "1\n"
          ]
        }
      ]
    },
    {
      "cell_type": "code",
      "source": [
        "range(5)"
      ],
      "metadata": {
        "id": "0qcCLWLgJ-ta"
      },
      "execution_count": null,
      "outputs": []
    },
    {
      "cell_type": "markdown",
      "source": [
        "# Biblioteka Matplotlib"
      ],
      "metadata": {
        "id": "s0x4-6BiIANE"
      }
    }
  ]
}