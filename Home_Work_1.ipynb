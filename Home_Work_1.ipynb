{
  "nbformat": 4,
  "nbformat_minor": 0,
  "metadata": {
    "colab": {
      "provenance": [],
      "toc_visible": true,
      "authorship_tag": "ABX9TyN6KuGNTJOl7bCCGh0ijwuA",
      "include_colab_link": true
    },
    "kernelspec": {
      "name": "python3",
      "display_name": "Python 3"
    },
    "language_info": {
      "name": "python"
    }
  },
  "cells": [
    {
      "cell_type": "markdown",
      "metadata": {
        "id": "view-in-github",
        "colab_type": "text"
      },
      "source": [
        "<a href=\"https://colab.research.google.com/github/nmedvedeva312/Data-Science-Course/blob/main/Home_Work_1.ipynb\" target=\"_parent\"><img src=\"https://colab.research.google.com/assets/colab-badge.svg\" alt=\"Open In Colab\"/></a>"
      ]
    },
    {
      "cell_type": "markdown",
      "source": [
        "# Задание 1\n"
      ],
      "metadata": {
        "id": "qP0M_fvvCHJU"
      }
    },
    {
      "cell_type": "code",
      "source": [
        "# Кортеж с 4мя разными числами\n",
        "my_tuple = (10, 20, 30, 40)\n",
        "\n",
        "# Выводим второй элемент кортежа (индексация начинается с 0)\n",
        "print(my_tuple[1])"
      ],
      "metadata": {
        "colab": {
          "base_uri": "https://localhost:8080/"
        },
        "id": "ppUaFusqCetU",
        "outputId": "101e8d0e-0c53-462e-b5cc-03afe9c5b22b"
      },
      "execution_count": 1,
      "outputs": [
        {
          "output_type": "stream",
          "name": "stdout",
          "text": [
            "20\n"
          ]
        }
      ]
    }
  ]
}